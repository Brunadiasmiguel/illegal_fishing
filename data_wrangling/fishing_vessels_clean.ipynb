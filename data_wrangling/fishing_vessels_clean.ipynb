{
 "cells": [
  {
   "cell_type": "markdown",
   "metadata": {},
   "source": [
    "## Fishing vessels data cleaning"
   ]
  },
  {
   "cell_type": "code",
   "execution_count": 1,
   "metadata": {},
   "outputs": [],
   "source": [
    "#importing libraries\n",
    "\n",
    "import pandas as pd\n",
    "import numpy as np"
   ]
  },
  {
   "cell_type": "code",
   "execution_count": 2,
   "metadata": {},
   "outputs": [],
   "source": [
    "#importing fishing vessels file\n",
    "\n",
    "fv=pd.read_csv(\"../data/fishing_vessels.csv\")"
   ]
  },
  {
   "cell_type": "code",
   "execution_count": 3,
   "metadata": {},
   "outputs": [
    {
     "data": {
      "text/html": [
       "<div>\n",
       "<style scoped>\n",
       "    .dataframe tbody tr th:only-of-type {\n",
       "        vertical-align: middle;\n",
       "    }\n",
       "\n",
       "    .dataframe tbody tr th {\n",
       "        vertical-align: top;\n",
       "    }\n",
       "\n",
       "    .dataframe thead th {\n",
       "        text-align: right;\n",
       "    }\n",
       "</style>\n",
       "<table border=\"1\" class=\"dataframe\">\n",
       "  <thead>\n",
       "    <tr style=\"text-align: right;\">\n",
       "      <th></th>\n",
       "      <th>mmsi</th>\n",
       "      <th>flag</th>\n",
       "      <th>geartype</th>\n",
       "      <th>length</th>\n",
       "      <th>tonnage</th>\n",
       "      <th>engine_power</th>\n",
       "      <th>active_2012</th>\n",
       "      <th>active_2013</th>\n",
       "      <th>active_2014</th>\n",
       "      <th>active_2015</th>\n",
       "      <th>active_2016</th>\n",
       "    </tr>\n",
       "  </thead>\n",
       "  <tbody>\n",
       "    <tr>\n",
       "      <th>0</th>\n",
       "      <td>603100157</td>\n",
       "      <td>AGO</td>\n",
       "      <td>trawlers</td>\n",
       "      <td>32.808468</td>\n",
       "      <td>299.003814</td>\n",
       "      <td>733.826977</td>\n",
       "      <td>False</td>\n",
       "      <td>False</td>\n",
       "      <td>False</td>\n",
       "      <td>True</td>\n",
       "      <td>True</td>\n",
       "    </tr>\n",
       "    <tr>\n",
       "      <th>1</th>\n",
       "      <td>603100137</td>\n",
       "      <td>AGO</td>\n",
       "      <td>trawlers</td>\n",
       "      <td>34.568782</td>\n",
       "      <td>395.683171</td>\n",
       "      <td>864.960188</td>\n",
       "      <td>False</td>\n",
       "      <td>False</td>\n",
       "      <td>False</td>\n",
       "      <td>True</td>\n",
       "      <td>True</td>\n",
       "    </tr>\n",
       "    <tr>\n",
       "      <th>2</th>\n",
       "      <td>603100161</td>\n",
       "      <td>AGO</td>\n",
       "      <td>trawlers</td>\n",
       "      <td>28.822140</td>\n",
       "      <td>263.849149</td>\n",
       "      <td>651.809642</td>\n",
       "      <td>False</td>\n",
       "      <td>False</td>\n",
       "      <td>False</td>\n",
       "      <td>True</td>\n",
       "      <td>True</td>\n",
       "    </tr>\n",
       "    <tr>\n",
       "      <th>3</th>\n",
       "      <td>603100174</td>\n",
       "      <td>AGO</td>\n",
       "      <td>trawlers</td>\n",
       "      <td>30.721429</td>\n",
       "      <td>299.700916</td>\n",
       "      <td>703.796086</td>\n",
       "      <td>False</td>\n",
       "      <td>False</td>\n",
       "      <td>False</td>\n",
       "      <td>True</td>\n",
       "      <td>True</td>\n",
       "    </tr>\n",
       "    <tr>\n",
       "      <th>4</th>\n",
       "      <td>603100164</td>\n",
       "      <td>AGO</td>\n",
       "      <td>trawlers</td>\n",
       "      <td>37.479248</td>\n",
       "      <td>405.967747</td>\n",
       "      <td>850.976640</td>\n",
       "      <td>False</td>\n",
       "      <td>False</td>\n",
       "      <td>False</td>\n",
       "      <td>True</td>\n",
       "      <td>True</td>\n",
       "    </tr>\n",
       "  </tbody>\n",
       "</table>\n",
       "</div>"
      ],
      "text/plain": [
       "        mmsi flag  geartype     length     tonnage  engine_power  active_2012  \\\n",
       "0  603100157  AGO  trawlers  32.808468  299.003814    733.826977        False   \n",
       "1  603100137  AGO  trawlers  34.568782  395.683171    864.960188        False   \n",
       "2  603100161  AGO  trawlers  28.822140  263.849149    651.809642        False   \n",
       "3  603100174  AGO  trawlers  30.721429  299.700916    703.796086        False   \n",
       "4  603100164  AGO  trawlers  37.479248  405.967747    850.976640        False   \n",
       "\n",
       "   active_2013  active_2014  active_2015  active_2016  \n",
       "0        False        False         True         True  \n",
       "1        False        False         True         True  \n",
       "2        False        False         True         True  \n",
       "3        False        False         True         True  \n",
       "4        False        False         True         True  "
      ]
     },
     "execution_count": 3,
     "metadata": {},
     "output_type": "execute_result"
    }
   ],
   "source": [
    "#check file\n",
    "\n",
    "fv.head()"
   ]
  },
  {
   "cell_type": "code",
   "execution_count": 4,
   "metadata": {},
   "outputs": [
    {
     "data": {
      "text/plain": [
       "RangeIndex(start=0, stop=73009, step=1)"
      ]
     },
     "execution_count": 4,
     "metadata": {},
     "output_type": "execute_result"
    }
   ],
   "source": [
    "# number of rows\n",
    "\n",
    "fv.index"
   ]
  },
  {
   "cell_type": "code",
   "execution_count": 5,
   "metadata": {},
   "outputs": [
    {
     "data": {
      "text/plain": [
       "Index(['mmsi', 'flag', 'geartype', 'length', 'tonnage', 'engine_power',\n",
       "       'active_2012', 'active_2013', 'active_2014', 'active_2015',\n",
       "       'active_2016'],\n",
       "      dtype='object')"
      ]
     },
     "execution_count": 5,
     "metadata": {},
     "output_type": "execute_result"
    }
   ],
   "source": [
    "#number of columns\n",
    "\n",
    "fv.columns"
   ]
  },
  {
   "cell_type": "code",
   "execution_count": 6,
   "metadata": {},
   "outputs": [
    {
     "data": {
      "text/plain": [
       "True     60410\n",
       "False    12599\n",
       "Name: active_2016, dtype: int64"
      ]
     },
     "execution_count": 6,
     "metadata": {},
     "output_type": "execute_result"
    }
   ],
   "source": [
    "#check activity thinking of the merge\n",
    "\n",
    "fv['active_2016'].value_counts()"
   ]
  },
  {
   "cell_type": "code",
   "execution_count": 7,
   "metadata": {},
   "outputs": [
    {
     "data": {
      "text/plain": [
       "True     55508\n",
       "False    17501\n",
       "Name: active_2015, dtype: int64"
      ]
     },
     "execution_count": 7,
     "metadata": {},
     "output_type": "execute_result"
    }
   ],
   "source": [
    "#check activity thinking of the merge\n",
    "\n",
    "fv['active_2015'].value_counts()"
   ]
  },
  {
   "cell_type": "code",
   "execution_count": 8,
   "metadata": {},
   "outputs": [],
   "source": [
    "#keeping the boats active in 2015 or 2016 thinking of the merging\n",
    "\n",
    "fv=fv.loc[(fv['active_2016']==True) | (fv['active_2015']==True)]"
   ]
  },
  {
   "cell_type": "code",
   "execution_count": 9,
   "metadata": {},
   "outputs": [
    {
     "data": {
      "text/html": [
       "<div>\n",
       "<style scoped>\n",
       "    .dataframe tbody tr th:only-of-type {\n",
       "        vertical-align: middle;\n",
       "    }\n",
       "\n",
       "    .dataframe tbody tr th {\n",
       "        vertical-align: top;\n",
       "    }\n",
       "\n",
       "    .dataframe thead th {\n",
       "        text-align: right;\n",
       "    }\n",
       "</style>\n",
       "<table border=\"1\" class=\"dataframe\">\n",
       "  <thead>\n",
       "    <tr style=\"text-align: right;\">\n",
       "      <th></th>\n",
       "      <th>mmsi</th>\n",
       "      <th>flag</th>\n",
       "      <th>geartype</th>\n",
       "      <th>length</th>\n",
       "      <th>tonnage</th>\n",
       "      <th>engine_power</th>\n",
       "      <th>active_2012</th>\n",
       "      <th>active_2013</th>\n",
       "      <th>active_2014</th>\n",
       "      <th>active_2015</th>\n",
       "      <th>active_2016</th>\n",
       "    </tr>\n",
       "  </thead>\n",
       "  <tbody>\n",
       "    <tr>\n",
       "      <th>0</th>\n",
       "      <td>603100157</td>\n",
       "      <td>AGO</td>\n",
       "      <td>trawlers</td>\n",
       "      <td>32.808468</td>\n",
       "      <td>299.003814</td>\n",
       "      <td>733.826977</td>\n",
       "      <td>False</td>\n",
       "      <td>False</td>\n",
       "      <td>False</td>\n",
       "      <td>True</td>\n",
       "      <td>True</td>\n",
       "    </tr>\n",
       "    <tr>\n",
       "      <th>1</th>\n",
       "      <td>603100137</td>\n",
       "      <td>AGO</td>\n",
       "      <td>trawlers</td>\n",
       "      <td>34.568782</td>\n",
       "      <td>395.683171</td>\n",
       "      <td>864.960188</td>\n",
       "      <td>False</td>\n",
       "      <td>False</td>\n",
       "      <td>False</td>\n",
       "      <td>True</td>\n",
       "      <td>True</td>\n",
       "    </tr>\n",
       "    <tr>\n",
       "      <th>2</th>\n",
       "      <td>603100161</td>\n",
       "      <td>AGO</td>\n",
       "      <td>trawlers</td>\n",
       "      <td>28.822140</td>\n",
       "      <td>263.849149</td>\n",
       "      <td>651.809642</td>\n",
       "      <td>False</td>\n",
       "      <td>False</td>\n",
       "      <td>False</td>\n",
       "      <td>True</td>\n",
       "      <td>True</td>\n",
       "    </tr>\n",
       "    <tr>\n",
       "      <th>3</th>\n",
       "      <td>603100174</td>\n",
       "      <td>AGO</td>\n",
       "      <td>trawlers</td>\n",
       "      <td>30.721429</td>\n",
       "      <td>299.700916</td>\n",
       "      <td>703.796086</td>\n",
       "      <td>False</td>\n",
       "      <td>False</td>\n",
       "      <td>False</td>\n",
       "      <td>True</td>\n",
       "      <td>True</td>\n",
       "    </tr>\n",
       "    <tr>\n",
       "      <th>4</th>\n",
       "      <td>603100164</td>\n",
       "      <td>AGO</td>\n",
       "      <td>trawlers</td>\n",
       "      <td>37.479248</td>\n",
       "      <td>405.967747</td>\n",
       "      <td>850.976640</td>\n",
       "      <td>False</td>\n",
       "      <td>False</td>\n",
       "      <td>False</td>\n",
       "      <td>True</td>\n",
       "      <td>True</td>\n",
       "    </tr>\n",
       "  </tbody>\n",
       "</table>\n",
       "</div>"
      ],
      "text/plain": [
       "        mmsi flag  geartype     length     tonnage  engine_power  active_2012  \\\n",
       "0  603100157  AGO  trawlers  32.808468  299.003814    733.826977        False   \n",
       "1  603100137  AGO  trawlers  34.568782  395.683171    864.960188        False   \n",
       "2  603100161  AGO  trawlers  28.822140  263.849149    651.809642        False   \n",
       "3  603100174  AGO  trawlers  30.721429  299.700916    703.796086        False   \n",
       "4  603100164  AGO  trawlers  37.479248  405.967747    850.976640        False   \n",
       "\n",
       "   active_2013  active_2014  active_2015  active_2016  \n",
       "0        False        False         True         True  \n",
       "1        False        False         True         True  \n",
       "2        False        False         True         True  \n",
       "3        False        False         True         True  \n",
       "4        False        False         True         True  "
      ]
     },
     "execution_count": 9,
     "metadata": {},
     "output_type": "execute_result"
    }
   ],
   "source": [
    "#check dataframe\n",
    "\n",
    "fv.head()"
   ]
  },
  {
   "cell_type": "code",
   "execution_count": 10,
   "metadata": {},
   "outputs": [
    {
     "data": {
      "text/plain": [
       "Int64Index([    0,     1,     2,     3,     4,     5,     6,     7,     8,\n",
       "                9,\n",
       "            ...\n",
       "            72999, 73000, 73001, 73002, 73003, 73004, 73005, 73006, 73007,\n",
       "            73008],\n",
       "           dtype='int64', length=66444)"
      ]
     },
     "execution_count": 10,
     "metadata": {},
     "output_type": "execute_result"
    }
   ],
   "source": [
    "#check the drop\n",
    "\n",
    "fv.index\n"
   ]
  },
  {
   "cell_type": "code",
   "execution_count": 11,
   "metadata": {},
   "outputs": [],
   "source": [
    "#using the ISO table to actually have the country names\n",
    "\n",
    "iso=pd.read_csv(\"../data/Country_ISO.csv\")\n",
    "\n"
   ]
  },
  {
   "cell_type": "code",
   "execution_count": 12,
   "metadata": {},
   "outputs": [
    {
     "data": {
      "text/html": [
       "<div>\n",
       "<style scoped>\n",
       "    .dataframe tbody tr th:only-of-type {\n",
       "        vertical-align: middle;\n",
       "    }\n",
       "\n",
       "    .dataframe tbody tr th {\n",
       "        vertical-align: top;\n",
       "    }\n",
       "\n",
       "    .dataframe thead th {\n",
       "        text-align: right;\n",
       "    }\n",
       "</style>\n",
       "<table border=\"1\" class=\"dataframe\">\n",
       "  <thead>\n",
       "    <tr style=\"text-align: right;\">\n",
       "      <th></th>\n",
       "      <th>Code</th>\n",
       "      <th>Name</th>\n",
       "    </tr>\n",
       "  </thead>\n",
       "  <tbody>\n",
       "    <tr>\n",
       "      <th>0</th>\n",
       "      <td>ABW</td>\n",
       "      <td>Aruba</td>\n",
       "    </tr>\n",
       "    <tr>\n",
       "      <th>1</th>\n",
       "      <td>AFG</td>\n",
       "      <td>Afghanistan</td>\n",
       "    </tr>\n",
       "    <tr>\n",
       "      <th>2</th>\n",
       "      <td>AGO</td>\n",
       "      <td>Angola</td>\n",
       "    </tr>\n",
       "    <tr>\n",
       "      <th>3</th>\n",
       "      <td>AIA</td>\n",
       "      <td>Anguilla</td>\n",
       "    </tr>\n",
       "    <tr>\n",
       "      <th>4</th>\n",
       "      <td>ALA</td>\n",
       "      <td>Åland Islands</td>\n",
       "    </tr>\n",
       "  </tbody>\n",
       "</table>\n",
       "</div>"
      ],
      "text/plain": [
       "  Code           Name\n",
       "0  ABW          Aruba\n",
       "1  AFG    Afghanistan\n",
       "2  AGO         Angola\n",
       "3  AIA       Anguilla\n",
       "4  ALA  Åland Islands"
      ]
     },
     "execution_count": 12,
     "metadata": {},
     "output_type": "execute_result"
    }
   ],
   "source": [
    "#confirm iso is imported\n",
    "\n",
    "iso.head()"
   ]
  },
  {
   "cell_type": "code",
   "execution_count": 13,
   "metadata": {},
   "outputs": [],
   "source": [
    "#merging with main dataframe\n",
    "\n",
    "merge_country=fv.merge(iso, left_on='flag', right_on='Code')"
   ]
  },
  {
   "cell_type": "code",
   "execution_count": 14,
   "metadata": {},
   "outputs": [
    {
     "data": {
      "text/html": [
       "<div>\n",
       "<style scoped>\n",
       "    .dataframe tbody tr th:only-of-type {\n",
       "        vertical-align: middle;\n",
       "    }\n",
       "\n",
       "    .dataframe tbody tr th {\n",
       "        vertical-align: top;\n",
       "    }\n",
       "\n",
       "    .dataframe thead th {\n",
       "        text-align: right;\n",
       "    }\n",
       "</style>\n",
       "<table border=\"1\" class=\"dataframe\">\n",
       "  <thead>\n",
       "    <tr style=\"text-align: right;\">\n",
       "      <th></th>\n",
       "      <th>mmsi</th>\n",
       "      <th>flag</th>\n",
       "      <th>geartype</th>\n",
       "      <th>length</th>\n",
       "      <th>tonnage</th>\n",
       "      <th>engine_power</th>\n",
       "      <th>active_2012</th>\n",
       "      <th>active_2013</th>\n",
       "      <th>active_2014</th>\n",
       "      <th>active_2015</th>\n",
       "      <th>active_2016</th>\n",
       "      <th>Code</th>\n",
       "      <th>Name</th>\n",
       "    </tr>\n",
       "  </thead>\n",
       "  <tbody>\n",
       "    <tr>\n",
       "      <th>0</th>\n",
       "      <td>603100157</td>\n",
       "      <td>AGO</td>\n",
       "      <td>trawlers</td>\n",
       "      <td>32.808468</td>\n",
       "      <td>299.003814</td>\n",
       "      <td>733.826977</td>\n",
       "      <td>False</td>\n",
       "      <td>False</td>\n",
       "      <td>False</td>\n",
       "      <td>True</td>\n",
       "      <td>True</td>\n",
       "      <td>AGO</td>\n",
       "      <td>Angola</td>\n",
       "    </tr>\n",
       "    <tr>\n",
       "      <th>1</th>\n",
       "      <td>603100137</td>\n",
       "      <td>AGO</td>\n",
       "      <td>trawlers</td>\n",
       "      <td>34.568782</td>\n",
       "      <td>395.683171</td>\n",
       "      <td>864.960188</td>\n",
       "      <td>False</td>\n",
       "      <td>False</td>\n",
       "      <td>False</td>\n",
       "      <td>True</td>\n",
       "      <td>True</td>\n",
       "      <td>AGO</td>\n",
       "      <td>Angola</td>\n",
       "    </tr>\n",
       "    <tr>\n",
       "      <th>2</th>\n",
       "      <td>603100161</td>\n",
       "      <td>AGO</td>\n",
       "      <td>trawlers</td>\n",
       "      <td>28.822140</td>\n",
       "      <td>263.849149</td>\n",
       "      <td>651.809642</td>\n",
       "      <td>False</td>\n",
       "      <td>False</td>\n",
       "      <td>False</td>\n",
       "      <td>True</td>\n",
       "      <td>True</td>\n",
       "      <td>AGO</td>\n",
       "      <td>Angola</td>\n",
       "    </tr>\n",
       "    <tr>\n",
       "      <th>3</th>\n",
       "      <td>603100174</td>\n",
       "      <td>AGO</td>\n",
       "      <td>trawlers</td>\n",
       "      <td>30.721429</td>\n",
       "      <td>299.700916</td>\n",
       "      <td>703.796086</td>\n",
       "      <td>False</td>\n",
       "      <td>False</td>\n",
       "      <td>False</td>\n",
       "      <td>True</td>\n",
       "      <td>True</td>\n",
       "      <td>AGO</td>\n",
       "      <td>Angola</td>\n",
       "    </tr>\n",
       "    <tr>\n",
       "      <th>4</th>\n",
       "      <td>603100164</td>\n",
       "      <td>AGO</td>\n",
       "      <td>trawlers</td>\n",
       "      <td>37.479248</td>\n",
       "      <td>405.967747</td>\n",
       "      <td>850.976640</td>\n",
       "      <td>False</td>\n",
       "      <td>False</td>\n",
       "      <td>False</td>\n",
       "      <td>True</td>\n",
       "      <td>True</td>\n",
       "      <td>AGO</td>\n",
       "      <td>Angola</td>\n",
       "    </tr>\n",
       "  </tbody>\n",
       "</table>\n",
       "</div>"
      ],
      "text/plain": [
       "        mmsi flag  geartype     length     tonnage  engine_power  active_2012  \\\n",
       "0  603100157  AGO  trawlers  32.808468  299.003814    733.826977        False   \n",
       "1  603100137  AGO  trawlers  34.568782  395.683171    864.960188        False   \n",
       "2  603100161  AGO  trawlers  28.822140  263.849149    651.809642        False   \n",
       "3  603100174  AGO  trawlers  30.721429  299.700916    703.796086        False   \n",
       "4  603100164  AGO  trawlers  37.479248  405.967747    850.976640        False   \n",
       "\n",
       "   active_2013  active_2014  active_2015  active_2016 Code    Name  \n",
       "0        False        False         True         True  AGO  Angola  \n",
       "1        False        False         True         True  AGO  Angola  \n",
       "2        False        False         True         True  AGO  Angola  \n",
       "3        False        False         True         True  AGO  Angola  \n",
       "4        False        False         True         True  AGO  Angola  "
      ]
     },
     "execution_count": 14,
     "metadata": {},
     "output_type": "execute_result"
    }
   ],
   "source": [
    "#confirm merging\n",
    "\n",
    "merge_country.head()"
   ]
  },
  {
   "cell_type": "code",
   "execution_count": 15,
   "metadata": {},
   "outputs": [
    {
     "data": {
      "text/plain": [
       "Int64Index([    0,     1,     2,     3,     4,     5,     6,     7,     8,\n",
       "                9,\n",
       "            ...\n",
       "            66316, 66317, 66318, 66319, 66320, 66321, 66322, 66323, 66324,\n",
       "            66325],\n",
       "           dtype='int64', length=66326)"
      ]
     },
     "execution_count": 15,
     "metadata": {},
     "output_type": "execute_result"
    }
   ],
   "source": [
    "#check if data not lost\n",
    "\n",
    "merge_country.index"
   ]
  },
  {
   "cell_type": "code",
   "execution_count": 16,
   "metadata": {},
   "outputs": [],
   "source": [
    "#dropping non-relevant columns\n",
    "\n",
    "merge_country = merge_country.drop(['Code','active_2012','active_2013','active_2014','active_2015','active_2016'], axis=1)"
   ]
  },
  {
   "cell_type": "code",
   "execution_count": 17,
   "metadata": {},
   "outputs": [
    {
     "data": {
      "text/html": [
       "<div>\n",
       "<style scoped>\n",
       "    .dataframe tbody tr th:only-of-type {\n",
       "        vertical-align: middle;\n",
       "    }\n",
       "\n",
       "    .dataframe tbody tr th {\n",
       "        vertical-align: top;\n",
       "    }\n",
       "\n",
       "    .dataframe thead th {\n",
       "        text-align: right;\n",
       "    }\n",
       "</style>\n",
       "<table border=\"1\" class=\"dataframe\">\n",
       "  <thead>\n",
       "    <tr style=\"text-align: right;\">\n",
       "      <th></th>\n",
       "      <th>mmsi</th>\n",
       "      <th>flag</th>\n",
       "      <th>geartype</th>\n",
       "      <th>length</th>\n",
       "      <th>tonnage</th>\n",
       "      <th>engine_power</th>\n",
       "      <th>Name</th>\n",
       "    </tr>\n",
       "  </thead>\n",
       "  <tbody>\n",
       "    <tr>\n",
       "      <th>0</th>\n",
       "      <td>603100157</td>\n",
       "      <td>AGO</td>\n",
       "      <td>trawlers</td>\n",
       "      <td>32.808468</td>\n",
       "      <td>299.003814</td>\n",
       "      <td>733.826977</td>\n",
       "      <td>Angola</td>\n",
       "    </tr>\n",
       "    <tr>\n",
       "      <th>1</th>\n",
       "      <td>603100137</td>\n",
       "      <td>AGO</td>\n",
       "      <td>trawlers</td>\n",
       "      <td>34.568782</td>\n",
       "      <td>395.683171</td>\n",
       "      <td>864.960188</td>\n",
       "      <td>Angola</td>\n",
       "    </tr>\n",
       "    <tr>\n",
       "      <th>2</th>\n",
       "      <td>603100161</td>\n",
       "      <td>AGO</td>\n",
       "      <td>trawlers</td>\n",
       "      <td>28.822140</td>\n",
       "      <td>263.849149</td>\n",
       "      <td>651.809642</td>\n",
       "      <td>Angola</td>\n",
       "    </tr>\n",
       "    <tr>\n",
       "      <th>3</th>\n",
       "      <td>603100174</td>\n",
       "      <td>AGO</td>\n",
       "      <td>trawlers</td>\n",
       "      <td>30.721429</td>\n",
       "      <td>299.700916</td>\n",
       "      <td>703.796086</td>\n",
       "      <td>Angola</td>\n",
       "    </tr>\n",
       "    <tr>\n",
       "      <th>4</th>\n",
       "      <td>603100164</td>\n",
       "      <td>AGO</td>\n",
       "      <td>trawlers</td>\n",
       "      <td>37.479248</td>\n",
       "      <td>405.967747</td>\n",
       "      <td>850.976640</td>\n",
       "      <td>Angola</td>\n",
       "    </tr>\n",
       "    <tr>\n",
       "      <th>...</th>\n",
       "      <td>...</td>\n",
       "      <td>...</td>\n",
       "      <td>...</td>\n",
       "      <td>...</td>\n",
       "      <td>...</td>\n",
       "      <td>...</td>\n",
       "      <td>...</td>\n",
       "    </tr>\n",
       "    <tr>\n",
       "      <th>66321</th>\n",
       "      <td>601764000</td>\n",
       "      <td>ZAF</td>\n",
       "      <td>drifting_longlines</td>\n",
       "      <td>17.032258</td>\n",
       "      <td>52.550920</td>\n",
       "      <td>207.818629</td>\n",
       "      <td>South Africa</td>\n",
       "    </tr>\n",
       "    <tr>\n",
       "      <th>66322</th>\n",
       "      <td>601089100</td>\n",
       "      <td>ZAF</td>\n",
       "      <td>drifting_longlines</td>\n",
       "      <td>22.915622</td>\n",
       "      <td>180.506028</td>\n",
       "      <td>527.507463</td>\n",
       "      <td>South Africa</td>\n",
       "    </tr>\n",
       "    <tr>\n",
       "      <th>66323</th>\n",
       "      <td>601849000</td>\n",
       "      <td>ZAF</td>\n",
       "      <td>drifting_longlines</td>\n",
       "      <td>19.692080</td>\n",
       "      <td>86.485661</td>\n",
       "      <td>362.553279</td>\n",
       "      <td>South Africa</td>\n",
       "    </tr>\n",
       "    <tr>\n",
       "      <th>66324</th>\n",
       "      <td>601183700</td>\n",
       "      <td>ZAF</td>\n",
       "      <td>drifting_longlines</td>\n",
       "      <td>31.872860</td>\n",
       "      <td>307.446773</td>\n",
       "      <td>977.330342</td>\n",
       "      <td>South Africa</td>\n",
       "    </tr>\n",
       "    <tr>\n",
       "      <th>66325</th>\n",
       "      <td>601826000</td>\n",
       "      <td>ZAF</td>\n",
       "      <td>drifting_longlines</td>\n",
       "      <td>25.401070</td>\n",
       "      <td>160.784917</td>\n",
       "      <td>365.421212</td>\n",
       "      <td>South Africa</td>\n",
       "    </tr>\n",
       "  </tbody>\n",
       "</table>\n",
       "<p>66326 rows × 7 columns</p>\n",
       "</div>"
      ],
      "text/plain": [
       "            mmsi flag            geartype     length     tonnage  \\\n",
       "0      603100157  AGO            trawlers  32.808468  299.003814   \n",
       "1      603100137  AGO            trawlers  34.568782  395.683171   \n",
       "2      603100161  AGO            trawlers  28.822140  263.849149   \n",
       "3      603100174  AGO            trawlers  30.721429  299.700916   \n",
       "4      603100164  AGO            trawlers  37.479248  405.967747   \n",
       "...          ...  ...                 ...        ...         ...   \n",
       "66321  601764000  ZAF  drifting_longlines  17.032258   52.550920   \n",
       "66322  601089100  ZAF  drifting_longlines  22.915622  180.506028   \n",
       "66323  601849000  ZAF  drifting_longlines  19.692080   86.485661   \n",
       "66324  601183700  ZAF  drifting_longlines  31.872860  307.446773   \n",
       "66325  601826000  ZAF  drifting_longlines  25.401070  160.784917   \n",
       "\n",
       "       engine_power          Name  \n",
       "0        733.826977        Angola  \n",
       "1        864.960188        Angola  \n",
       "2        651.809642        Angola  \n",
       "3        703.796086        Angola  \n",
       "4        850.976640        Angola  \n",
       "...             ...           ...  \n",
       "66321    207.818629  South Africa  \n",
       "66322    527.507463  South Africa  \n",
       "66323    362.553279  South Africa  \n",
       "66324    977.330342  South Africa  \n",
       "66325    365.421212  South Africa  \n",
       "\n",
       "[66326 rows x 7 columns]"
      ]
     },
     "execution_count": 17,
     "metadata": {},
     "output_type": "execute_result"
    }
   ],
   "source": [
    "#check the drop\n",
    "\n",
    "merge_country"
   ]
  },
  {
   "cell_type": "code",
   "execution_count": 18,
   "metadata": {},
   "outputs": [
    {
     "data": {
      "text/plain": [
       "False    66326\n",
       "Name: mmsi, dtype: int64"
      ]
     },
     "execution_count": 18,
     "metadata": {},
     "output_type": "execute_result"
    }
   ],
   "source": [
    "#check for nulls. mmsi null is pointless\n",
    "\n",
    "merge_country['mmsi'].isnull().value_counts()"
   ]
  },
  {
   "cell_type": "code",
   "execution_count": 19,
   "metadata": {},
   "outputs": [],
   "source": [
    "#rename columns\n",
    "\n",
    "merge_country.columns=['mmsi','flag','gear_type','length','tonnage','engine_power','country']"
   ]
  },
  {
   "cell_type": "code",
   "execution_count": 20,
   "metadata": {},
   "outputs": [
    {
     "data": {
      "text/html": [
       "<div>\n",
       "<style scoped>\n",
       "    .dataframe tbody tr th:only-of-type {\n",
       "        vertical-align: middle;\n",
       "    }\n",
       "\n",
       "    .dataframe tbody tr th {\n",
       "        vertical-align: top;\n",
       "    }\n",
       "\n",
       "    .dataframe thead th {\n",
       "        text-align: right;\n",
       "    }\n",
       "</style>\n",
       "<table border=\"1\" class=\"dataframe\">\n",
       "  <thead>\n",
       "    <tr style=\"text-align: right;\">\n",
       "      <th></th>\n",
       "      <th>mmsi</th>\n",
       "      <th>flag</th>\n",
       "      <th>gear_type</th>\n",
       "      <th>length</th>\n",
       "      <th>tonnage</th>\n",
       "      <th>engine_power</th>\n",
       "      <th>country</th>\n",
       "    </tr>\n",
       "  </thead>\n",
       "  <tbody>\n",
       "    <tr>\n",
       "      <th>0</th>\n",
       "      <td>603100157</td>\n",
       "      <td>AGO</td>\n",
       "      <td>trawlers</td>\n",
       "      <td>32.808468</td>\n",
       "      <td>299.003814</td>\n",
       "      <td>733.826977</td>\n",
       "      <td>Angola</td>\n",
       "    </tr>\n",
       "    <tr>\n",
       "      <th>1</th>\n",
       "      <td>603100137</td>\n",
       "      <td>AGO</td>\n",
       "      <td>trawlers</td>\n",
       "      <td>34.568782</td>\n",
       "      <td>395.683171</td>\n",
       "      <td>864.960188</td>\n",
       "      <td>Angola</td>\n",
       "    </tr>\n",
       "    <tr>\n",
       "      <th>2</th>\n",
       "      <td>603100161</td>\n",
       "      <td>AGO</td>\n",
       "      <td>trawlers</td>\n",
       "      <td>28.822140</td>\n",
       "      <td>263.849149</td>\n",
       "      <td>651.809642</td>\n",
       "      <td>Angola</td>\n",
       "    </tr>\n",
       "    <tr>\n",
       "      <th>3</th>\n",
       "      <td>603100174</td>\n",
       "      <td>AGO</td>\n",
       "      <td>trawlers</td>\n",
       "      <td>30.721429</td>\n",
       "      <td>299.700916</td>\n",
       "      <td>703.796086</td>\n",
       "      <td>Angola</td>\n",
       "    </tr>\n",
       "    <tr>\n",
       "      <th>4</th>\n",
       "      <td>603100164</td>\n",
       "      <td>AGO</td>\n",
       "      <td>trawlers</td>\n",
       "      <td>37.479248</td>\n",
       "      <td>405.967747</td>\n",
       "      <td>850.976640</td>\n",
       "      <td>Angola</td>\n",
       "    </tr>\n",
       "  </tbody>\n",
       "</table>\n",
       "</div>"
      ],
      "text/plain": [
       "        mmsi flag gear_type     length     tonnage  engine_power country\n",
       "0  603100157  AGO  trawlers  32.808468  299.003814    733.826977  Angola\n",
       "1  603100137  AGO  trawlers  34.568782  395.683171    864.960188  Angola\n",
       "2  603100161  AGO  trawlers  28.822140  263.849149    651.809642  Angola\n",
       "3  603100174  AGO  trawlers  30.721429  299.700916    703.796086  Angola\n",
       "4  603100164  AGO  trawlers  37.479248  405.967747    850.976640  Angola"
      ]
     },
     "execution_count": 20,
     "metadata": {},
     "output_type": "execute_result"
    }
   ],
   "source": [
    "#confirm\n",
    "\n",
    "merge_country.head()"
   ]
  },
  {
   "cell_type": "code",
   "execution_count": 21,
   "metadata": {},
   "outputs": [
    {
     "data": {
      "text/plain": [
       "mmsi              int64\n",
       "flag             object\n",
       "gear_type        object\n",
       "length          float64\n",
       "tonnage         float64\n",
       "engine_power    float64\n",
       "country          object\n",
       "dtype: object"
      ]
     },
     "execution_count": 21,
     "metadata": {},
     "output_type": "execute_result"
    }
   ],
   "source": [
    "#check the types\n",
    "\n",
    "merge_country.dtypes"
   ]
  },
  {
   "cell_type": "code",
   "execution_count": 22,
   "metadata": {},
   "outputs": [],
   "source": [
    "#import as CSV\n",
    "\n",
    "merge_country.to_csv('fishvessel_clean.csv', index=False)"
   ]
  }
 ],
 "metadata": {
  "kernelspec": {
   "display_name": "Python 3",
   "language": "python",
   "name": "python3"
  },
  "language_info": {
   "codemirror_mode": {
    "name": "ipython",
    "version": 3
   },
   "file_extension": ".py",
   "mimetype": "text/x-python",
   "name": "python",
   "nbconvert_exporter": "python",
   "pygments_lexer": "ipython3",
   "version": "3.8.5"
  }
 },
 "nbformat": 4,
 "nbformat_minor": 4
}
